{
 "cells": [
  {
   "cell_type": "markdown",
   "metadata": {},
   "source": [
    "            Artifical Neural Network on the fashion_mnist datasets"
   ]
  },
  {
   "cell_type": "code",
   "execution_count": 15,
   "metadata": {},
   "outputs": [],
   "source": [
    "import tensorflow as tf"
   ]
  },
  {
   "cell_type": "code",
   "execution_count": 16,
   "metadata": {},
   "outputs": [],
   "source": [
    "from tensorflow import keras"
   ]
  },
  {
   "cell_type": "code",
   "execution_count": 17,
   "metadata": {},
   "outputs": [],
   "source": [
    "fashion_mnist = keras.datasets.fashion_mnist"
   ]
  },
  {
   "cell_type": "code",
   "execution_count": 18,
   "metadata": {},
   "outputs": [],
   "source": [
    "(X_train_full, y_train_full), (X_test, y_test) = fashion_mnist.load_data()"
   ]
  },
  {
   "cell_type": "code",
   "execution_count": 19,
   "metadata": {},
   "outputs": [],
   "source": [
    "X_valid, X_train = X_train_full[:5000]/255.0, X_train_full[5000:]/255.0\n",
    "y_valid, y_train = y_train_full[:5000], y_train_full[5000:]"
   ]
  },
  {
   "cell_type": "code",
   "execution_count": 20,
   "metadata": {},
   "outputs": [],
   "source": [
    "model = keras.models.Sequential([\n",
    "    keras.layers.Flatten(input_shape=[28,28]),\n",
    "    keras.layers.BatchNormalization(),\n",
    "    keras.layers.Dense(300, use_bias=False),\n",
    "    keras.layers.BatchNormalization(),\n",
    "    keras.layers.Activation('relu'),\n",
    "    keras.layers.Dense(100, use_bias=False),\n",
    "    keras.layers.BatchNormalization(),\n",
    "    keras.layers.Activation('relu'),\n",
    "    keras.layers.Dense(10, activation='softmax')\n",
    "])"
   ]
  },
  {
   "cell_type": "code",
   "execution_count": 21,
   "metadata": {},
   "outputs": [],
   "source": [
    "model.compile(\n",
    "    loss=keras.losses.sparse_categorical_crossentropy,\n",
    "    optimizer='sgd',\n",
    "    metrics=['accuracy']\n",
    ")"
   ]
  },
  {
   "cell_type": "code",
   "execution_count": 8,
   "metadata": {},
   "outputs": [],
   "source": [
    "# Saving the model\n",
    "\n",
    "model.save(\"my_keras_model.h5\")\n",
    "\n",
    "# restoring the model\n",
    "\n",
    "model = keras.models.load_model(\"my_keras_model.h5\")\n",
    "\n",
    "# if you run this code block...you need to run the code above again from \n",
    "# model = keras.models.Sequential([...]) onwards.."
   ]
  },
  {
   "cell_type": "code",
   "execution_count": 10,
   "metadata": {},
   "outputs": [],
   "source": [
    "# callbacks\n",
    "\n",
    "checkpoint_cb = keras.callbacks.ModelCheckpoint(\"my_keras_model.h5\",\n",
    "                                                save_best_only=True)"
   ]
  },
  {
   "cell_type": "code",
   "execution_count": 22,
   "metadata": {},
   "outputs": [],
   "source": [
    "# early stopping\n",
    "\n",
    "early_stopping_cb = keras.callbacks.EarlyStopping(\n",
    "    patience=10,\n",
    "    restore_best_weights=True\n",
    ")"
   ]
  },
  {
   "cell_type": "markdown",
   "metadata": {},
   "source": [
    "            visualize on Tensorboard"
   ]
  },
  {
   "cell_type": "code",
   "execution_count": 23,
   "metadata": {},
   "outputs": [],
   "source": [
    "root_logdir = (\"my_logs\")\n",
    "import os\n",
    "\n",
    "def get_run_logdir():\n",
    "    import time\n",
    "    run_id = time.strftime(\"run_%Y_%m_%d-%H_%M_%S\")\n",
    "    return os.path.join(root_logdir, run_id)\n",
    "\n",
    "run_logdir = get_run_logdir()\n",
    "tensorboard_cb = keras.callbacks.TensorBoard(run_logdir)\n",
    "\n",
    "# in the terminal run: 'tensorboard --logdir=./my_logs --port=6006' to view the tensorboard."
   ]
  },
  {
   "cell_type": "code",
   "execution_count": 24,
   "metadata": {},
   "outputs": [
    {
     "name": "stdout",
     "output_type": "stream",
     "text": [
      "Epoch 1/20\n",
      "1719/1719 [==============================] - 79s 9ms/step - loss: 0.5901 - accuracy: 0.8016 - val_loss: 0.3943 - val_accuracy: 0.8634\n",
      "Epoch 2/20\n",
      "1719/1719 [==============================] - 14s 8ms/step - loss: 0.4176 - accuracy: 0.8523 - val_loss: 0.3506 - val_accuracy: 0.8730\n",
      "Epoch 3/20\n",
      "1719/1719 [==============================] - 15s 9ms/step - loss: 0.3742 - accuracy: 0.8685 - val_loss: 0.3301 - val_accuracy: 0.8834\n",
      "Epoch 4/20\n",
      "1719/1719 [==============================] - 15s 9ms/step - loss: 0.3442 - accuracy: 0.8771 - val_loss: 0.3235 - val_accuracy: 0.8862\n",
      "Epoch 5/20\n",
      "1719/1719 [==============================] - 15s 9ms/step - loss: 0.3235 - accuracy: 0.8837 - val_loss: 0.3122 - val_accuracy: 0.8866\n",
      "Epoch 6/20\n",
      "1719/1719 [==============================] - 16s 9ms/step - loss: 0.3052 - accuracy: 0.8900 - val_loss: 0.3087 - val_accuracy: 0.8866\n",
      "Epoch 7/20\n",
      "1719/1719 [==============================] - 16s 10ms/step - loss: 0.2896 - accuracy: 0.8948 - val_loss: 0.3057 - val_accuracy: 0.8878\n",
      "Epoch 8/20\n",
      "1719/1719 [==============================] - 16s 9ms/step - loss: 0.2760 - accuracy: 0.9014 - val_loss: 0.3095 - val_accuracy: 0.8910\n",
      "Epoch 9/20\n",
      "1719/1719 [==============================] - 16s 9ms/step - loss: 0.2648 - accuracy: 0.9050 - val_loss: 0.3005 - val_accuracy: 0.8904\n",
      "Epoch 10/20\n",
      "1719/1719 [==============================] - 16s 9ms/step - loss: 0.2525 - accuracy: 0.9095 - val_loss: 0.3071 - val_accuracy: 0.8878\n",
      "Epoch 11/20\n",
      "1719/1719 [==============================] - 17s 10ms/step - loss: 0.2448 - accuracy: 0.9128 - val_loss: 0.2943 - val_accuracy: 0.8954\n",
      "Epoch 12/20\n",
      "1719/1719 [==============================] - 15s 9ms/step - loss: 0.2335 - accuracy: 0.9170 - val_loss: 0.2944 - val_accuracy: 0.8932\n",
      "Epoch 13/20\n",
      "1719/1719 [==============================] - 16s 9ms/step - loss: 0.2263 - accuracy: 0.9184 - val_loss: 0.3069 - val_accuracy: 0.8870\n",
      "Epoch 14/20\n",
      "1719/1719 [==============================] - 17s 10ms/step - loss: 0.2171 - accuracy: 0.9215 - val_loss: 0.2943 - val_accuracy: 0.8958\n",
      "Epoch 15/20\n",
      "1719/1719 [==============================] - 15s 9ms/step - loss: 0.2118 - accuracy: 0.9233 - val_loss: 0.2957 - val_accuracy: 0.8962\n",
      "Epoch 16/20\n",
      "1719/1719 [==============================] - 15s 9ms/step - loss: 0.2021 - accuracy: 0.9279 - val_loss: 0.2992 - val_accuracy: 0.8920\n",
      "Epoch 17/20\n",
      "1719/1719 [==============================] - 15s 9ms/step - loss: 0.1953 - accuracy: 0.9293 - val_loss: 0.3023 - val_accuracy: 0.8936\n",
      "Epoch 18/20\n",
      "1719/1719 [==============================] - 15s 9ms/step - loss: 0.1890 - accuracy: 0.9322 - val_loss: 0.3049 - val_accuracy: 0.8950\n",
      "Epoch 19/20\n",
      "1719/1719 [==============================] - 16s 9ms/step - loss: 0.1845 - accuracy: 0.9334 - val_loss: 0.3009 - val_accuracy: 0.8956\n",
      "Epoch 20/20\n",
      "1719/1719 [==============================] - 17s 10ms/step - loss: 0.1786 - accuracy: 0.9361 - val_loss: 0.2982 - val_accuracy: 0.8970\n"
     ]
    },
    {
     "data": {
      "text/plain": [
       "<keras.callbacks.History at 0x221782f3d00>"
      ]
     },
     "execution_count": 24,
     "metadata": {},
     "output_type": "execute_result"
    }
   ],
   "source": [
    "model.fit(\n",
    "    X_train, y_train, \n",
    "    epochs=20, \n",
    "    validation_data=(X_valid, y_valid),\n",
    "    callbacks=[early_stopping_cb, tensorboard_cb]\n",
    ")"
   ]
  },
  {
   "cell_type": "code",
   "execution_count": 25,
   "metadata": {},
   "outputs": [
    {
     "name": "stdout",
     "output_type": "stream",
     "text": [
      "313/313 [==============================] - 2s 4ms/step - loss: 79.5020 - accuracy: 0.7809\n"
     ]
    },
    {
     "data": {
      "text/plain": [
       "[79.5019760131836, 0.7809000015258789]"
      ]
     },
     "execution_count": 25,
     "metadata": {},
     "output_type": "execute_result"
    }
   ],
   "source": [
    "model.evaluate(X_test,y_test)"
   ]
  },
  {
   "cell_type": "markdown",
   "metadata": {},
   "source": [
    "            78.1% accurate"
   ]
  }
 ],
 "metadata": {
  "kernelspec": {
   "display_name": "Python 3.10.2 64-bit",
   "language": "python",
   "name": "python3"
  },
  "language_info": {
   "codemirror_mode": {
    "name": "ipython",
    "version": 3
   },
   "file_extension": ".py",
   "mimetype": "text/x-python",
   "name": "python",
   "nbconvert_exporter": "python",
   "pygments_lexer": "ipython3",
   "version": "3.10.2"
  },
  "orig_nbformat": 4,
  "vscode": {
   "interpreter": {
    "hash": "412ccff6fb13ee14c93d2b8b85fab99f2d3a6250a390f2b105cadca88f5395d9"
   }
  }
 },
 "nbformat": 4,
 "nbformat_minor": 2
}
